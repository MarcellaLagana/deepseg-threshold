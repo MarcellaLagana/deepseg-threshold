{
 "cells": [
  {
   "cell_type": "markdown",
   "metadata": {},
   "source": [
    "# Find threshold for deepseg_sc\n",
    "\n",
    "This notebook runs an algorithm that finds the best combination of threshold for each contrast, by minimizing the outpout CSA associated with each threshold."
   ]
  },
  {
   "cell_type": "code",
   "execution_count": null,
   "metadata": {},
   "outputs": [],
   "source": [
    "import os\n",
    "import numpy as np\n",
    "import pandas as pd\n",
    "import itertools"
   ]
  },
  {
   "cell_type": "code",
   "execution_count": 229,
   "metadata": {},
   "outputs": [
    {
     "name": "stdout",
     "output_type": "stream",
     "text": [
      "None: i_sub=25, i_thr=0, i_contrast=2\n",
      "None: i_sub=25, i_thr=0, i_contrast=3\n",
      "None: i_sub=25, i_thr=0, i_contrast=4\n",
      "None: i_sub=25, i_thr=1, i_contrast=2\n",
      "None: i_sub=25, i_thr=1, i_contrast=3\n",
      "None: i_sub=25, i_thr=1, i_contrast=4\n",
      "None: i_sub=25, i_thr=2, i_contrast=2\n",
      "None: i_sub=25, i_thr=2, i_contrast=3\n",
      "None: i_sub=25, i_thr=2, i_contrast=4\n",
      "None: i_sub=25, i_thr=3, i_contrast=2\n",
      "None: i_sub=25, i_thr=3, i_contrast=3\n",
      "None: i_sub=25, i_thr=3, i_contrast=4\n",
      "None: i_sub=25, i_thr=4, i_contrast=2\n",
      "None: i_sub=25, i_thr=4, i_contrast=3\n",
      "None: i_sub=25, i_thr=4, i_contrast=4\n",
      "None: i_sub=25, i_thr=5, i_contrast=2\n",
      "None: i_sub=25, i_thr=5, i_contrast=3\n",
      "None: i_sub=25, i_thr=5, i_contrast=4\n",
      "None: i_sub=25, i_thr=6, i_contrast=2\n",
      "None: i_sub=25, i_thr=6, i_contrast=3\n",
      "None: i_sub=25, i_thr=6, i_contrast=4\n"
     ]
    }
   ],
   "source": [
    "folder_csv = '/Volumes/projects/sct_deepseg_threshold/20191009'\n",
    "\n",
    "thr = [0.0, 0.1, 0.2, 0.3, 0.5, 0.7, 0.9]  # thresholds to test\n",
    "contrasts = ['T1', 'T2', 'T2s', 'MTon', 'DWI']  # various contrasts\n",
    "sub = range(50)  # number of subjects\n",
    "\n",
    "# Build csa array\n",
    "csa = np.zeros([len(sub), len(contrasts), len(thr)])\n",
    "\n",
    "# Populate csa array by reading the csv files across contrasts and thresholds\n",
    "for (i_thr, i_contrast) in [(x, y) for x in range(len(thr)) for y in range(len(contrasts))]:\n",
    "    csv_file = os.path.join(folder_csv, 'csa-{}_{}.csv'.format(contrasts[i_contrast], thr[i_thr]))\n",
    "    df = pd.read_csv(csv_file)\n",
    "    # Loop across subjects (across rows)\n",
    "    for i_sub in sub:\n",
    "        try:\n",
    "            csa[i_sub][i_contrast][i_thr] = df['MEAN(area)'][i_sub]\n",
    "        except ValueError:\n",
    "            csa[i_sub][i_contrast][i_thr] = np.nan\n",
    "            print(\"None: i_sub={}, i_thr={}, i_contrast={}\".format(i_sub, i_thr, i_contrast))"
   ]
  },
  {
   "cell_type": "code",
   "execution_count": 230,
   "metadata": {},
   "outputs": [
    {
     "data": {
      "text/plain": [
       "array([0.364, 0.386, 0.858, 0.228, 0.028])"
      ]
     },
     "execution_count": 230,
     "metadata": {},
     "output_type": "execute_result"
    }
   ],
   "source": [
    "thr_sub = []\n",
    "\n",
    "# Loop across subjects\n",
    "for i_sub in sub:\n",
    "    csa_all = []\n",
    "    ind_all = []\n",
    "    # Loop across all possible permutations of thresholds and contrasts\n",
    "    for i_thr in list(itertools.permutations(range(len(thr)), len(contrasts))):\n",
    "        # Compute the STD of CSA across contrasts, for this particular combinations of thresholds\n",
    "        csa_all.append(np.std([csa[i_sub][x][i_thr[x]] for x in range(len(contrasts))]))\n",
    "        ind_all.append(i_thr)\n",
    "#         print(csa_all)\n",
    "    # Find the minimum across all CSA_STD, for this particular subject\n",
    "    thr_sub.append([thr[x] for x in ind_all[np.argmin(csa_all)]])\n",
    "\n",
    "# Average the threshold per contrast\n",
    "# print(thr_sub)\n",
    "np.mean(thr_sub, axis=0)"
   ]
  }
 ],
 "metadata": {
  "kernelspec": {
   "display_name": "Python 3",
   "language": "python",
   "name": "python3"
  },
  "language_info": {
   "codemirror_mode": {
    "name": "ipython",
    "version": 3
   },
   "file_extension": ".py",
   "mimetype": "text/x-python",
   "name": "python",
   "nbconvert_exporter": "python",
   "pygments_lexer": "ipython3",
   "version": "3.7.3"
  }
 },
 "nbformat": 4,
 "nbformat_minor": 2
}
